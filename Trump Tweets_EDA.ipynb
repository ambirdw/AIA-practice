{
 "cells": [
  {
   "cell_type": "markdown",
   "metadata": {},
   "source": [
    "```\n",
    "import packages you need\n",
    "```"
   ]
  },
  {
   "cell_type": "code",
   "execution_count": 1,
   "metadata": {},
   "outputs": [],
   "source": [
    "import numpy as np\n",
    "import pandas as pd\n",
    "\n",
    "import matplotlib.pyplot as plt\n",
    "%matplotlib inline\n",
    "\n",
    "from datetime import datetime, timedelta"
   ]
  },
  {
   "cell_type": "markdown",
   "metadata": {},
   "source": [
    "```\n",
    "import date\n",
    "```"
   ]
  },
  {
   "cell_type": "code",
   "execution_count": 2,
   "metadata": {},
   "outputs": [],
   "source": [
    "df_tweet = pd.read_csv(\"./trump_tweets_df.csv\", encoding='unicode_escape')"
   ]
  },
  {
   "cell_type": "code",
   "execution_count": 3,
   "metadata": {},
   "outputs": [
    {
     "data": {
      "text/html": [
       "<div>\n",
       "<style scoped>\n",
       "    .dataframe tbody tr th:only-of-type {\n",
       "        vertical-align: middle;\n",
       "    }\n",
       "\n",
       "    .dataframe tbody tr th {\n",
       "        vertical-align: top;\n",
       "    }\n",
       "\n",
       "    .dataframe thead th {\n",
       "        text-align: right;\n",
       "    }\n",
       "</style>\n",
       "<table border=\"1\" class=\"dataframe\">\n",
       "  <thead>\n",
       "    <tr style=\"text-align: right;\">\n",
       "      <th></th>\n",
       "      <th>text</th>\n",
       "      <th>favorited</th>\n",
       "      <th>favoriteCount</th>\n",
       "      <th>replyToSN</th>\n",
       "      <th>created</th>\n",
       "      <th>truncated</th>\n",
       "      <th>replyToSID</th>\n",
       "      <th>id</th>\n",
       "      <th>replyToUID</th>\n",
       "      <th>statusSource</th>\n",
       "      <th>screenName</th>\n",
       "      <th>retweetCount</th>\n",
       "      <th>isRetweet</th>\n",
       "      <th>retweeted</th>\n",
       "      <th>longitude</th>\n",
       "      <th>latitude</th>\n",
       "    </tr>\n",
       "  </thead>\n",
       "  <tbody>\n",
       "    <tr>\n",
       "      <th>0</th>\n",
       "      <td>My economic policy speech will be carried live...</td>\n",
       "      <td>False</td>\n",
       "      <td>9214</td>\n",
       "      <td>NaN</td>\n",
       "      <td>2016-08-08 15:20:44</td>\n",
       "      <td>False</td>\n",
       "      <td>NaN</td>\n",
       "      <td>762669882571980801</td>\n",
       "      <td>NaN</td>\n",
       "      <td>&lt;a href=\"http://twitter.com/download/android\" ...</td>\n",
       "      <td>realDonaldTrump</td>\n",
       "      <td>3107</td>\n",
       "      <td>False</td>\n",
       "      <td>False</td>\n",
       "      <td>NaN</td>\n",
       "      <td>NaN</td>\n",
       "    </tr>\n",
       "    <tr>\n",
       "      <th>1</th>\n",
       "      <td>Join me in Fayetteville, North Carolina tomorr...</td>\n",
       "      <td>False</td>\n",
       "      <td>6981</td>\n",
       "      <td>NaN</td>\n",
       "      <td>2016-08-08 13:28:20</td>\n",
       "      <td>False</td>\n",
       "      <td>NaN</td>\n",
       "      <td>762641595439190016</td>\n",
       "      <td>NaN</td>\n",
       "      <td>&lt;a href=\"http://twitter.com/download/iphone\" r...</td>\n",
       "      <td>realDonaldTrump</td>\n",
       "      <td>2390</td>\n",
       "      <td>False</td>\n",
       "      <td>False</td>\n",
       "      <td>NaN</td>\n",
       "      <td>NaN</td>\n",
       "    </tr>\n",
       "    <tr>\n",
       "      <th>2</th>\n",
       "      <td>#ICYMI: \"Will Media Apologize to Trump?\" https...</td>\n",
       "      <td>False</td>\n",
       "      <td>15724</td>\n",
       "      <td>NaN</td>\n",
       "      <td>2016-08-08 00:05:54</td>\n",
       "      <td>False</td>\n",
       "      <td>NaN</td>\n",
       "      <td>762439658911338496</td>\n",
       "      <td>NaN</td>\n",
       "      <td>&lt;a href=\"http://twitter.com/download/iphone\" r...</td>\n",
       "      <td>realDonaldTrump</td>\n",
       "      <td>6691</td>\n",
       "      <td>False</td>\n",
       "      <td>False</td>\n",
       "      <td>NaN</td>\n",
       "      <td>NaN</td>\n",
       "    </tr>\n",
       "    <tr>\n",
       "      <th>3</th>\n",
       "      <td>Michael Morell, the lightweight former Acting ...</td>\n",
       "      <td>False</td>\n",
       "      <td>19837</td>\n",
       "      <td>NaN</td>\n",
       "      <td>2016-08-07 23:09:08</td>\n",
       "      <td>False</td>\n",
       "      <td>NaN</td>\n",
       "      <td>762425371874557952</td>\n",
       "      <td>NaN</td>\n",
       "      <td>&lt;a href=\"http://twitter.com/download/android\" ...</td>\n",
       "      <td>realDonaldTrump</td>\n",
       "      <td>6402</td>\n",
       "      <td>False</td>\n",
       "      <td>False</td>\n",
       "      <td>NaN</td>\n",
       "      <td>NaN</td>\n",
       "    </tr>\n",
       "    <tr>\n",
       "      <th>4</th>\n",
       "      <td>The media is going crazy. They totally distort...</td>\n",
       "      <td>False</td>\n",
       "      <td>34051</td>\n",
       "      <td>NaN</td>\n",
       "      <td>2016-08-07 21:31:46</td>\n",
       "      <td>False</td>\n",
       "      <td>NaN</td>\n",
       "      <td>762400869858115588</td>\n",
       "      <td>NaN</td>\n",
       "      <td>&lt;a href=\"http://twitter.com/download/android\" ...</td>\n",
       "      <td>realDonaldTrump</td>\n",
       "      <td>11717</td>\n",
       "      <td>False</td>\n",
       "      <td>False</td>\n",
       "      <td>NaN</td>\n",
       "      <td>NaN</td>\n",
       "    </tr>\n",
       "  </tbody>\n",
       "</table>\n",
       "</div>"
      ],
      "text/plain": [
       "                                                text  favorited  \\\n",
       "0  My economic policy speech will be carried live...      False   \n",
       "1  Join me in Fayetteville, North Carolina tomorr...      False   \n",
       "2  #ICYMI: \"Will Media Apologize to Trump?\" https...      False   \n",
       "3  Michael Morell, the lightweight former Acting ...      False   \n",
       "4  The media is going crazy. They totally distort...      False   \n",
       "\n",
       "   favoriteCount replyToSN              created  truncated  replyToSID  \\\n",
       "0           9214       NaN  2016-08-08 15:20:44      False         NaN   \n",
       "1           6981       NaN  2016-08-08 13:28:20      False         NaN   \n",
       "2          15724       NaN  2016-08-08 00:05:54      False         NaN   \n",
       "3          19837       NaN  2016-08-07 23:09:08      False         NaN   \n",
       "4          34051       NaN  2016-08-07 21:31:46      False         NaN   \n",
       "\n",
       "                   id  replyToUID  \\\n",
       "0  762669882571980801         NaN   \n",
       "1  762641595439190016         NaN   \n",
       "2  762439658911338496         NaN   \n",
       "3  762425371874557952         NaN   \n",
       "4  762400869858115588         NaN   \n",
       "\n",
       "                                        statusSource       screenName  \\\n",
       "0  <a href=\"http://twitter.com/download/android\" ...  realDonaldTrump   \n",
       "1  <a href=\"http://twitter.com/download/iphone\" r...  realDonaldTrump   \n",
       "2  <a href=\"http://twitter.com/download/iphone\" r...  realDonaldTrump   \n",
       "3  <a href=\"http://twitter.com/download/android\" ...  realDonaldTrump   \n",
       "4  <a href=\"http://twitter.com/download/android\" ...  realDonaldTrump   \n",
       "\n",
       "   retweetCount  isRetweet  retweeted  longitude  latitude  \n",
       "0          3107      False      False        NaN       NaN  \n",
       "1          2390      False      False        NaN       NaN  \n",
       "2          6691      False      False        NaN       NaN  \n",
       "3          6402      False      False        NaN       NaN  \n",
       "4         11717      False      False        NaN       NaN  "
      ]
     },
     "execution_count": 3,
     "metadata": {},
     "output_type": "execute_result"
    }
   ],
   "source": [
    "df_tweet.head()"
   ]
  },
  {
   "cell_type": "code",
   "execution_count": 4,
   "metadata": {},
   "outputs": [
    {
     "data": {
      "text/plain": [
       "(1512, 16)"
      ]
     },
     "execution_count": 4,
     "metadata": {},
     "output_type": "execute_result"
    }
   ],
   "source": [
    "df_tweet.shape"
   ]
  },
  {
   "cell_type": "code",
   "execution_count": 5,
   "metadata": {},
   "outputs": [
    {
     "name": "stdout",
     "output_type": "stream",
     "text": [
      "<class 'pandas.core.frame.DataFrame'>\n",
      "RangeIndex: 1512 entries, 0 to 1511\n",
      "Data columns (total 16 columns):\n",
      " #   Column         Non-Null Count  Dtype  \n",
      "---  ------         --------------  -----  \n",
      " 0   text           1512 non-null   object \n",
      " 1   favorited      1512 non-null   bool   \n",
      " 2   favoriteCount  1512 non-null   int64  \n",
      " 3   replyToSN      3 non-null      object \n",
      " 4   created        1512 non-null   object \n",
      " 5   truncated      1512 non-null   bool   \n",
      " 6   replyToSID     0 non-null      float64\n",
      " 7   id             1512 non-null   int64  \n",
      " 8   replyToUID     3 non-null      float64\n",
      " 9   statusSource   1512 non-null   object \n",
      " 10  screenName     1512 non-null   object \n",
      " 11  retweetCount   1512 non-null   int64  \n",
      " 12  isRetweet      1512 non-null   bool   \n",
      " 13  retweeted      1512 non-null   bool   \n",
      " 14  longitude      5 non-null      float64\n",
      " 15  latitude       5 non-null      float64\n",
      "dtypes: bool(4), float64(4), int64(3), object(5)\n",
      "memory usage: 147.8+ KB\n"
     ]
    }
   ],
   "source": [
    "df_tweet.info()"
   ]
  },
  {
   "cell_type": "markdown",
   "metadata": {},
   "source": [
    "---\n",
    "\n",
    "```\n",
    "process of the tweet source\n",
    "```"
   ]
  },
  {
   "cell_type": "code",
   "execution_count": 6,
   "metadata": {},
   "outputs": [
    {
     "data": {
      "text/plain": [
       "<a href=\"http://twitter.com/download/android\" rel=\"nofollow\">Twitter for Android</a>    762\n",
       "<a href=\"http://twitter.com/download/iphone\" rel=\"nofollow\">Twitter for iPhone</a>      628\n",
       "<a href=\"http://twitter.com\" rel=\"nofollow\">Twitter Web Client</a>                      120\n",
       "<a href=\"http://twitter.com/#!/download/ipad\" rel=\"nofollow\">Twitter for iPad</a>         1\n",
       "<a href=\"http://instagram.com\" rel=\"nofollow\">Instagram</a>                               1\n",
       "Name: statusSource, dtype: int64"
      ]
     },
     "execution_count": 6,
     "metadata": {},
     "output_type": "execute_result"
    }
   ],
   "source": [
    "df_tweet['statusSource'].value_counts()"
   ]
  },
  {
   "cell_type": "code",
   "execution_count": 7,
   "metadata": {},
   "outputs": [],
   "source": [
    "df_tweet['source'] = df_tweet['statusSource'].apply(lambda x: x.split(\" \")[-1])\n",
    "df_tweet['source'] = df_tweet['source'].apply(lambda x: x.split(\"</a>\")[0])"
   ]
  },
  {
   "cell_type": "code",
   "execution_count": 8,
   "metadata": {
    "scrolled": true
   },
   "outputs": [
    {
     "data": {
      "text/plain": [
       "Android                     762\n",
       "iPhone                      628\n",
       "Client                      120\n",
       "rel=\"nofollow\">Instagram      1\n",
       "iPad                          1\n",
       "Name: source, dtype: int64"
      ]
     },
     "execution_count": 8,
     "metadata": {},
     "output_type": "execute_result"
    }
   ],
   "source": [
    "df_tweet['source'].value_counts()"
   ]
  },
  {
   "cell_type": "markdown",
   "metadata": {},
   "source": [
    "---\n",
    "\n",
    "```\n",
    "convert timezone from native to EST\n",
    "```"
   ]
  },
  {
   "cell_type": "code",
   "execution_count": 9,
   "metadata": {},
   "outputs": [],
   "source": [
    "df_tweet['date'] = pd.to_datetime(df_tweet['created']).dt.tz_localize('UTC')\n",
    "df_tweet['date'] = df_tweet['date'].dt.tz_convert('US/Eastern')\n",
    "df_tweet['date'] = df_tweet['date'].apply(lambda x: x.strftime(\"%Y-%m-%d %H:%M:%S\"))"
   ]
  },
  {
   "cell_type": "code",
   "execution_count": 10,
   "metadata": {},
   "outputs": [],
   "source": [
    "df_tweet['hour'] = pd.to_datetime(df_tweet['date']).dt.hour"
   ]
  },
  {
   "cell_type": "code",
   "execution_count": 11,
   "metadata": {},
   "outputs": [],
   "source": [
    "# we only need source of Android and iPhone\n",
    "tweet_Android = df_tweet[df_tweet['source'] == \"Android\"]\n",
    "tweet_iPhone = df_tweet[df_tweet['source'] == \"iPhone\"]"
   ]
  },
  {
   "cell_type": "code",
   "execution_count": 12,
   "metadata": {},
   "outputs": [],
   "source": [
    "group_a = tweet_Android[['id', 'hour']].groupby(['hour']).count()\n",
    "group_i = tweet_iPhone[['id', 'hour']].groupby(['hour']).count()"
   ]
  },
  {
   "cell_type": "code",
   "execution_count": 13,
   "metadata": {},
   "outputs": [],
   "source": [
    "group_i['pre'] = (group_i['id']/group_i['id'].sum())*100\n",
    "group_a['pre'] = (group_a['id']/group_a['id'].sum())*100"
   ]
  },
  {
   "cell_type": "code",
   "execution_count": 14,
   "metadata": {},
   "outputs": [],
   "source": [
    "plt.style.use('default')\n",
    "# plt.style.use('ggplot')"
   ]
  },
  {
   "cell_type": "code",
   "execution_count": 15,
   "metadata": {},
   "outputs": [
    {
     "data": {
      "image/png": "[encoded data removed]",
      "text/plain": [
       "<Figure size 640x480 with 1 Axes>"
      ]
     },
     "metadata": {},
     "output_type": "display_data"
    }
   ],
   "source": [
    "# fig = plt.figure(figsize=(8, 6))\n",
    "plt.plot(group_a.index, group_a['pre'], c='darkturquoise', label=\"Android\")\n",
    "plt.plot(group_i.index, group_i['pre'], c='salmon', label=\"iPhone\")\n",
    "\n",
    "plt.grid(True, alpha=0.6)\n",
    "\n",
    "plt.legend(bbox_to_anchor=(1.05, 1.0), loc='upper left')\n",
    "plt.tight_layout()\n",
    "\n",
    "plt.xticks(fontsize=10)\n",
    "plt.yticks(fontsize=10)\n",
    "\n",
    "# plt.title(\"Use Python's 'dt.tz_convert' function\", fontsize=14)\n",
    "plt.xlabel(\"hour of day (EST)\",fontsize=12)\n",
    "plt.ylabel(\"% of tweets\",fontsize=12)\n",
    "plt.show()"
   ]
  },
  {
   "cell_type": "markdown",
   "metadata": {},
   "source": [
    "---"
   ]
  },
  {
   "cell_type": "markdown",
   "metadata": {},
   "source": [
    "```\n",
    "Different EST convert between Python and R.\n",
    "```"
   ]
  },
  {
   "cell_type": "code",
   "execution_count": 16,
   "metadata": {},
   "outputs": [],
   "source": [
    "tweet_r = df_tweet.copy()\n",
    "tweet_r['est_date'] = pd.to_datetime(df_tweet['created']) - timedelta(hours=5)"
   ]
  },
  {
   "cell_type": "code",
   "execution_count": 17,
   "metadata": {
    "scrolled": true
   },
   "outputs": [],
   "source": [
    "tweet_r['hour'] = tweet_r['est_date'].dt.hour"
   ]
  },
  {
   "cell_type": "code",
   "execution_count": 18,
   "metadata": {},
   "outputs": [],
   "source": [
    "tweet_r_a = tweet_r[tweet_r['source'] == \"Android\"]\n",
    "tweet_r_i = tweet_r[tweet_r['source'] == \"iPhone\"]"
   ]
  },
  {
   "cell_type": "code",
   "execution_count": 19,
   "metadata": {},
   "outputs": [],
   "source": [
    "group_r_a = tweet_r_a[['id', 'hour']].groupby(['hour']).count()\n",
    "group_r_i = tweet_r_i[['id', 'hour']].groupby(['hour']).count()"
   ]
  },
  {
   "cell_type": "code",
   "execution_count": 20,
   "metadata": {},
   "outputs": [],
   "source": [
    "group_r_a['pre'] = (group_r_a['id']/group_r_a['id'].sum())*100\n",
    "group_r_i['pre'] = (group_r_i['id']/group_r_i['id'].sum())*100"
   ]
  },
  {
   "cell_type": "code",
   "execution_count": 21,
   "metadata": {},
   "outputs": [
    {
     "data": {
      "image/png": "[encoded data removed]",
      "text/plain": [
       "<Figure size 640x480 with 1 Axes>"
      ]
     },
     "metadata": {},
     "output_type": "display_data"
    }
   ],
   "source": [
    "plt.plot(group_r_a.index, group_r_a['pre'], c='darkturquoise', label=\"Android\")\n",
    "plt.plot(group_r_i.index, group_r_i['pre'], c='salmon', label=\"iPhone\")\n",
    "\n",
    "plt.grid(True, alpha=0.6)\n",
    "\n",
    "plt.legend(bbox_to_anchor=(1.05, 1.0), loc='upper left')\n",
    "plt.tight_layout()\n",
    "\n",
    "plt.xticks(fontsize=10)\n",
    "plt.yticks(fontsize=10)\n",
    "# plt.title(\"Use R's 'with_tz' function\", fontsize=14)\n",
    "plt.xlabel(\"hour of day (EST)\",fontsize=12)\n",
    "plt.ylabel(\"% of tweets\",fontsize=12)\n",
    "plt.show()"
   ]
  },
  {
   "cell_type": "markdown",
   "metadata": {},
   "source": [
    "---"
   ]
  },
  {
   "cell_type": "markdown",
   "metadata": {},
   "source": [
    "```\n",
    " you can see the difference EST convert between Python and R.\n",
    "```"
   ]
  },
  {
   "cell_type": "code",
   "execution_count": 22,
   "metadata": {},
   "outputs": [
    {
     "data": {
      "text/html": [
       "<div>\n",
       "<style scoped>\n",
       "    .dataframe tbody tr th:only-of-type {\n",
       "        vertical-align: middle;\n",
       "    }\n",
       "\n",
       "    .dataframe tbody tr th {\n",
       "        vertical-align: top;\n",
       "    }\n",
       "\n",
       "    .dataframe thead th {\n",
       "        text-align: right;\n",
       "    }\n",
       "</style>\n",
       "<table border=\"1\" class=\"dataframe\">\n",
       "  <thead>\n",
       "    <tr style=\"text-align: right;\">\n",
       "      <th></th>\n",
       "      <th>created</th>\n",
       "      <th>date</th>\n",
       "      <th>est_date</th>\n",
       "      <th>source</th>\n",
       "    </tr>\n",
       "  </thead>\n",
       "  <tbody>\n",
       "    <tr>\n",
       "      <th>0</th>\n",
       "      <td>2016-08-08 15:20:44</td>\n",
       "      <td>2016-08-08 11:20:44</td>\n",
       "      <td>2016-08-08 10:20:44</td>\n",
       "      <td>Android</td>\n",
       "    </tr>\n",
       "    <tr>\n",
       "      <th>1</th>\n",
       "      <td>2016-08-08 13:28:20</td>\n",
       "      <td>2016-08-08 09:28:20</td>\n",
       "      <td>2016-08-08 08:28:20</td>\n",
       "      <td>iPhone</td>\n",
       "    </tr>\n",
       "    <tr>\n",
       "      <th>2</th>\n",
       "      <td>2016-08-08 00:05:54</td>\n",
       "      <td>2016-08-07 20:05:54</td>\n",
       "      <td>2016-08-07 19:05:54</td>\n",
       "      <td>iPhone</td>\n",
       "    </tr>\n",
       "    <tr>\n",
       "      <th>3</th>\n",
       "      <td>2016-08-07 23:09:08</td>\n",
       "      <td>2016-08-07 19:09:08</td>\n",
       "      <td>2016-08-07 18:09:08</td>\n",
       "      <td>Android</td>\n",
       "    </tr>\n",
       "    <tr>\n",
       "      <th>4</th>\n",
       "      <td>2016-08-07 21:31:46</td>\n",
       "      <td>2016-08-07 17:31:46</td>\n",
       "      <td>2016-08-07 16:31:46</td>\n",
       "      <td>Android</td>\n",
       "    </tr>\n",
       "    <tr>\n",
       "      <th>...</th>\n",
       "      <td>...</td>\n",
       "      <td>...</td>\n",
       "      <td>...</td>\n",
       "      <td>...</td>\n",
       "    </tr>\n",
       "    <tr>\n",
       "      <th>1507</th>\n",
       "      <td>2015-12-20 08:21:23</td>\n",
       "      <td>2015-12-20 03:21:23</td>\n",
       "      <td>2015-12-20 03:21:23</td>\n",
       "      <td>Android</td>\n",
       "    </tr>\n",
       "    <tr>\n",
       "      <th>1508</th>\n",
       "      <td>2015-12-20 05:25:13</td>\n",
       "      <td>2015-12-20 00:25:13</td>\n",
       "      <td>2015-12-20 00:25:13</td>\n",
       "      <td>Android</td>\n",
       "    </tr>\n",
       "    <tr>\n",
       "      <th>1509</th>\n",
       "      <td>2015-12-20 05:11:04</td>\n",
       "      <td>2015-12-20 00:11:04</td>\n",
       "      <td>2015-12-20 00:11:04</td>\n",
       "      <td>Android</td>\n",
       "    </tr>\n",
       "    <tr>\n",
       "      <th>1510</th>\n",
       "      <td>2015-12-14 21:11:12</td>\n",
       "      <td>2015-12-14 16:11:12</td>\n",
       "      <td>2015-12-14 16:11:12</td>\n",
       "      <td>iPhone</td>\n",
       "    </tr>\n",
       "    <tr>\n",
       "      <th>1511</th>\n",
       "      <td>2015-12-14 20:09:15</td>\n",
       "      <td>2015-12-14 15:09:15</td>\n",
       "      <td>2015-12-14 15:09:15</td>\n",
       "      <td>iPhone</td>\n",
       "    </tr>\n",
       "  </tbody>\n",
       "</table>\n",
       "<p>1512 rows × 4 columns</p>\n",
       "</div>"
      ],
      "text/plain": [
       "                  created                 date            est_date   source\n",
       "0     2016-08-08 15:20:44  2016-08-08 11:20:44 2016-08-08 10:20:44  Android\n",
       "1     2016-08-08 13:28:20  2016-08-08 09:28:20 2016-08-08 08:28:20   iPhone\n",
       "2     2016-08-08 00:05:54  2016-08-07 20:05:54 2016-08-07 19:05:54   iPhone\n",
       "3     2016-08-07 23:09:08  2016-08-07 19:09:08 2016-08-07 18:09:08  Android\n",
       "4     2016-08-07 21:31:46  2016-08-07 17:31:46 2016-08-07 16:31:46  Android\n",
       "...                   ...                  ...                 ...      ...\n",
       "1507  2015-12-20 08:21:23  2015-12-20 03:21:23 2015-12-20 03:21:23  Android\n",
       "1508  2015-12-20 05:25:13  2015-12-20 00:25:13 2015-12-20 00:25:13  Android\n",
       "1509  2015-12-20 05:11:04  2015-12-20 00:11:04 2015-12-20 00:11:04  Android\n",
       "1510  2015-12-14 21:11:12  2015-12-14 16:11:12 2015-12-14 16:11:12   iPhone\n",
       "1511  2015-12-14 20:09:15  2015-12-14 15:09:15 2015-12-14 15:09:15   iPhone\n",
       "\n",
       "[1512 rows x 4 columns]"
      ]
     },
     "execution_count": 22,
     "metadata": {},
     "output_type": "execute_result"
    }
   ],
   "source": [
    "tweet_r[['created', 'date', 'est_date', 'source']]"
   ]
  },
  {
   "cell_type": "markdown",
   "metadata": {},
   "source": [
    "---"
   ]
  },
  {
   "cell_type": "markdown",
   "metadata": {},
   "source": [
    "```\n",
    "Whether tweets start with a quotation mark (\")\n",
    "```"
   ]
  },
  {
   "cell_type": "code",
   "execution_count": 23,
   "metadata": {},
   "outputs": [],
   "source": [
    "df_tweet['start_quoted'] = df_tweet['text'].apply(lambda x: x.startswith('\"'))"
   ]
  },
  {
   "cell_type": "code",
   "execution_count": 24,
   "metadata": {},
   "outputs": [],
   "source": [
    "df_tweet_f = df_tweet[df_tweet['source'].str.contains(\"Android|iPhone\")]"
   ]
  },
  {
   "cell_type": "code",
   "execution_count": 25,
   "metadata": {},
   "outputs": [
    {
     "data": {
      "text/plain": [
       "(1390, 20)"
      ]
     },
     "execution_count": 25,
     "metadata": {},
     "output_type": "execute_result"
    }
   ],
   "source": [
    "df_tweet_f.shape"
   ]
  },
  {
   "cell_type": "code",
   "execution_count": 26,
   "metadata": {},
   "outputs": [
    {
     "data": {
      "text/html": [
       "<div>\n",
       "<style scoped>\n",
       "    .dataframe tbody tr th:only-of-type {\n",
       "        vertical-align: middle;\n",
       "    }\n",
       "\n",
       "    .dataframe tbody tr th {\n",
       "        vertical-align: top;\n",
       "    }\n",
       "\n",
       "    .dataframe thead th {\n",
       "        text-align: right;\n",
       "    }\n",
       "</style>\n",
       "<table border=\"1\" class=\"dataframe\">\n",
       "  <thead>\n",
       "    <tr style=\"text-align: right;\">\n",
       "      <th></th>\n",
       "      <th></th>\n",
       "      <th>id</th>\n",
       "    </tr>\n",
       "    <tr>\n",
       "      <th>start_quoted</th>\n",
       "      <th>source</th>\n",
       "      <th></th>\n",
       "    </tr>\n",
       "  </thead>\n",
       "  <tbody>\n",
       "    <tr>\n",
       "      <th rowspan=\"2\" valign=\"top\">False</th>\n",
       "      <th>Android</th>\n",
       "      <td>553</td>\n",
       "    </tr>\n",
       "    <tr>\n",
       "      <th>iPhone</th>\n",
       "      <td>622</td>\n",
       "    </tr>\n",
       "    <tr>\n",
       "      <th rowspan=\"2\" valign=\"top\">True</th>\n",
       "      <th>Android</th>\n",
       "      <td>209</td>\n",
       "    </tr>\n",
       "    <tr>\n",
       "      <th>iPhone</th>\n",
       "      <td>6</td>\n",
       "    </tr>\n",
       "  </tbody>\n",
       "</table>\n",
       "</div>"
      ],
      "text/plain": [
       "                       id\n",
       "start_quoted source      \n",
       "False        Android  553\n",
       "             iPhone   622\n",
       "True         Android  209\n",
       "             iPhone     6"
      ]
     },
     "execution_count": 26,
     "metadata": {},
     "output_type": "execute_result"
    }
   ],
   "source": [
    "# method-1\n",
    "group_q = df_tweet_f[['start_quoted', 'source', 'id']].groupby(['start_quoted', 'source',]).count()\n",
    "group_q"
   ]
  },
  {
   "cell_type": "code",
   "execution_count": 27,
   "metadata": {},
   "outputs": [],
   "source": [
    "# method-2\n",
    "quoted_t = df_tweet_f[df_tweet_f['start_quoted'] == True]\n",
    "quoted_f = df_tweet_f[df_tweet_f['start_quoted'] == False]"
   ]
  },
  {
   "cell_type": "code",
   "execution_count": 28,
   "metadata": {},
   "outputs": [
    {
     "data": {
      "image/png": "[encoded data removed]",
      "text/plain": [
       "<Figure size 640x480 with 1 Axes>"
      ]
     },
     "metadata": {},
     "output_type": "display_data"
    }
   ],
   "source": [
    "x = np.arange(len(df_tweet_f['source'].unique()))\n",
    "width = 0.3\n",
    "\n",
    "# method-1\n",
    "plt.bar(x, group_q.loc[False, :].squeeze(), width, color='darkturquoise', label=\"Not quoted\")\n",
    "plt.bar(x+width, group_q.loc[True, :].squeeze(), width, color='salmon', label=\"quoted\")\n",
    "\n",
    "# method-2\n",
    "# plt.bar(x, quoted_f['source'].value_counts(sort=False), width, color='darkturquoise',label=\"Not quoted\")\n",
    "# plt.bar(x+width, quoted_t['source'].value_counts(sort=False), width, color='salmon', label=\"quoted\")\n",
    "\n",
    "plt.xticks(x+width/2, df_tweet_f['source'].unique(),fontsize=10)\n",
    "plt.yticks(fontsize=10)\n",
    "plt.grid(True, alpha=0.3)\n",
    "\n",
    "plt.legend(bbox_to_anchor=(1.05, 1.0), loc='upper left')\n",
    "plt.tight_layout()\n",
    "\n",
    "plt.title('Whether tweets start with a quotation mark (\")', fontsize=14)\n",
    "plt.ylabel(\"Number of tweets\",fontsize=12)\n",
    "\n",
    "plt.show()"
   ]
  }
 ],
 "metadata": {
  "kernelspec": {
   "display_name": "Python 3",
   "language": "python",
   "name": "python3"
  },
  "language_info": {
   "codemirror_mode": {
    "name": "ipython",
    "version": 3
   },
   "file_extension": ".py",
   "mimetype": "text/x-python",
   "name": "python",
   "nbconvert_exporter": "python",
   "pygments_lexer": "ipython3",
   "version": "3.7.6"
  }
 },
 "nbformat": 4,
 "nbformat_minor": 4
}
